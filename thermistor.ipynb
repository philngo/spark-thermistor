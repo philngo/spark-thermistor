{
 "metadata": {
  "name": "",
  "signature": "sha256:edcb9e2ebea826066752ac7562e990845e7717a7c657a1a1f8eb36c8807f1808"
 },
 "nbformat": 3,
 "nbformat_minor": 0,
 "worksheets": [
  {
   "cells": [
    {
     "cell_type": "code",
     "collapsed": false,
     "input": [
      "%matplotlib inline\n",
      "\n",
      "import matplotlib.pyplot as plt\n",
      "import numpy as np\n",
      "from scipy.optimize import minimize"
     ],
     "language": "python",
     "metadata": {},
     "outputs": [],
     "prompt_number": 67
    },
    {
     "cell_type": "code",
     "collapsed": false,
     "input": [
      "# Stein-Hart\n",
      "def temp(r,a,b,c):\n",
      "        return 1/(a + b*np.log(r) + c*(np.log(r)**3))\n",
      "    \n",
      "def plot(params):\n",
      "    a,b,c = params\n",
      "    rs = np.arange(300,600,dtype=np.float)\n",
      "    ts = np.array([temp(r,a,b,c) for r in rs])\n",
      "    plt.plot(rs,ts)"
     ],
     "language": "python",
     "metadata": {},
     "outputs": [],
     "prompt_number": 90
    },
    {
     "cell_type": "code",
     "collapsed": false,
     "input": [
      "def thermistor(data):\n",
      "    a,b,c = data\n",
      "    x = np.array([356,400,500,580,600])\n",
      "    y = np.array([98.6,90,80,70,65])\n",
      "    t = temp(x,a,b,c)\n",
      "    return np.mean((t - y)**2)**.5\n",
      "\n",
      "result = minimize(thermistor,(1,.001,.001),method='Nelder-Mead')\n",
      "result\n",
      "\n"
     ],
     "language": "python",
     "metadata": {},
     "outputs": [
      {
       "metadata": {},
       "output_type": "pyout",
       "prompt_number": 95,
       "text": [
        "  status: 0\n",
        "    nfev: 149\n",
        " success: True\n",
        "     fun: 1.9751125724964962\n",
        "       x: array([ -8.23803208e-03,   5.89798862e-04,   7.33180877e-05])\n",
        " message: 'Optimization terminated successfully.'\n",
        "     nit: 80"
       ]
      }
     ],
     "prompt_number": 95
    },
    {
     "cell_type": "code",
     "collapsed": false,
     "input": [
      "plot(result.x)\n",
      "plt.show()"
     ],
     "language": "python",
     "metadata": {},
     "outputs": [
      {
       "metadata": {},
       "output_type": "display_data",
       "png": "[encoded data removed]",
       "text": [
        "<matplotlib.figure.Figure at 0x10dd7cd10>"
       ]
      }
     ],
     "prompt_number": 94
    },
    {
     "cell_type": "code",
     "collapsed": false,
     "input": [],
     "language": "python",
     "metadata": {},
     "outputs": []
    }
   ],
   "metadata": {}
  }
 ]
}