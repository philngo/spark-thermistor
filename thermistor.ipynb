{
 "metadata": {
  "name": "",
  "signature": "sha256:7ba3f20bf9918f6e8847a09d0d8774d94f50f32b615f67baa78aceacb591ec4d"
 },
 "nbformat": 3,
 "nbformat_minor": 0,
 "worksheets": [
  {
   "cells": [
    {
     "cell_type": "code",
     "collapsed": false,
     "input": [
      "%matplotlib inline\n",
      "\n",
      "import matplotlib.pyplot as plt\n",
      "import numpy as np\n",
      "from scipy.optimize import minimize"
     ],
     "language": "python",
     "metadata": {},
     "outputs": [],
     "prompt_number": 1
    },
    {
     "cell_type": "code",
     "collapsed": false,
     "input": [
      "# Steinhart-Hart\n",
      "def temp(r,a,b,c):\n",
      "        return 1/(a + b*np.log(r) + c*(np.log(r)**3))\n",
      "    \n",
      "def plot(params):\n",
      "    a,b,c = params\n",
      "    rs = np.arange(300,600,dtype=np.float)\n",
      "    ts = np.array([temp(r,a,b,c) for r in rs])\n",
      "    plt.plot(rs,ts)"
     ],
     "language": "python",
     "metadata": {},
     "outputs": [],
     "prompt_number": 2
    },
    {
     "cell_type": "code",
     "collapsed": false,
     "input": [
      "def thermistor(data):\n",
      "    a,b,c = data\n",
      "    x = np.array([356,400,500,580,600])\n",
      "    y = np.array([98.6,90,80,70,65])\n",
      "    t = temp(x,a,b,c)\n",
      "    return np.mean((t - y)**2)**.5\n",
      "\n",
      "result = minimize(thermistor,(1,.001,.001),method='Nelder-Mead')\n",
      "result\n",
      "\n"
     ],
     "language": "python",
     "metadata": {},
     "outputs": [
      {
       "metadata": {},
       "output_type": "pyout",
       "prompt_number": 3,
       "text": [
        "  status: 0\n",
        "    nfev: 149\n",
        " success: True\n",
        "     fun: 1.9751125724964962\n",
        "       x: array([ -8.23803208e-03,   5.89798862e-04,   7.33180877e-05])\n",
        " message: 'Optimization terminated successfully.'\n",
        "     nit: 80"
       ]
      }
     ],
     "prompt_number": 3
    },
    {
     "cell_type": "code",
     "collapsed": false,
     "input": [
      "plot(result.x)\n",
      "plt.show()"
     ],
     "language": "python",
     "metadata": {},
     "outputs": [
      {
       "metadata": {},
       "output_type": "display_data",
       "png": "[encoded data removed]",
       "text": [
        "<matplotlib.figure.Figure at 0x10d9a9f90>"
       ]
      }
     ],
     "prompt_number": 4
    },
    {
     "cell_type": "code",
     "collapsed": false,
     "input": [
      "# alternatively, solve using 3 points:\n",
      "\n",
      "t1 = 273.15\n",
      "t2 = 298.15\n",
      "t3 = 323.15\n",
      "\n",
      "r1 = 500\n",
      "r2 = 300\n",
      "r3 = 200\n",
      "\n",
      "l1,l2,l3 = np.log([r1,r2,r3])\n",
      "y1,y2,y3 = 1/np.array([t1,t2,t3])\n",
      "g2 = (y2-y1)/(l2-l1)\n",
      "g3 = (y3-y1)/(l3-l1)\n",
      "\n",
      "C = ((g3 - g2)/(l3 - l2))/(l1 + l2 + l3)\n",
      "B = g2 - C*((l1 + l2)**2)\n",
      "A = y1 - (B+(l1**2)*C)*l1\n",
      "\n",
      "plot((A,B,C))"
     ],
     "language": "python",
     "metadata": {},
     "outputs": [
      {
       "metadata": {},
       "output_type": "display_data",
       "png": "[encoded data removed]",
       "text": [
        "<matplotlib.figure.Figure at 0x10f9ef5d0>"
       ]
      }
     ],
     "prompt_number": 10
    },
    {
     "cell_type": "code",
     "collapsed": false,
     "input": [],
     "language": "python",
     "metadata": {},
     "outputs": []
    }
   ],
   "metadata": {}
  }
 ]
}